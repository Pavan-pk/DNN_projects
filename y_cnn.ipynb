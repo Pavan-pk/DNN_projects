{
  "nbformat": 4,
  "nbformat_minor": 0,
  "metadata": {
    "colab": {
      "name": "y_cnn.ipynb",
      "version": "0.3.2",
      "provenance": [],
      "collapsed_sections": [],
      "include_colab_link": true
    },
    "kernelspec": {
      "name": "python3",
      "display_name": "Python 3"
    },
    "accelerator": "GPU"
  },
  "cells": [
    {
      "cell_type": "markdown",
      "metadata": {
        "id": "view-in-github",
        "colab_type": "text"
      },
      "source": [
        "<a href=\"https://colab.research.google.com/github/Pavan-pk/deep_nn/blob/master/y_cnn.ipynb\" target=\"_parent\"><img src=\"https://colab.research.google.com/assets/colab-badge.svg\" alt=\"Open In Colab\"/></a>"
      ]
    },
    {
      "cell_type": "code",
      "metadata": {
        "id": "u1ve3QkKeBog",
        "colab_type": "code",
        "colab": {
          "base_uri": "https://localhost:8080/",
          "height": 35
        },
        "outputId": "71a3548b-67c2-4247-fa8a-44268b4e820c"
      },
      "source": [
        "import numpy as np\n",
        "from keras.utils import to_categorical, plot_model\n",
        "from keras.layers import Conv2D, Dense, Dropout, Input\n",
        "from keras.layers import MaxPooling2D, Flatten\n",
        "from keras.layers.merge import concatenate\n",
        "from keras.datasets import mnist\n",
        "from keras.models import Model"
      ],
      "execution_count": 2,
      "outputs": [
        {
          "output_type": "stream",
          "text": [
            "Using TensorFlow backend.\n"
          ],
          "name": "stderr"
        }
      ]
    },
    {
      "cell_type": "code",
      "metadata": {
        "id": "gCyIEsa0e6Wa",
        "colab_type": "code",
        "colab": {
          "base_uri": "https://localhost:8080/",
          "height": 1000
        },
        "outputId": "dd3ef9b9-3706-4831-987e-9d6ba17e58bc"
      },
      "source": [
        "(x_train, y_train), (x_test, y_test) = mnist.load_data()\n",
        "\n",
        "input_shape = x_train.shape[1]\n",
        "n_labels = len(np.unique(y_train))\n",
        "x_train = np.reshape(x_train, [-1, input_shape, input_shape, 1])\n",
        "x_train = x_train.astype('float')/255\n",
        "\n",
        "y_train = to_categorical(y_train)\n",
        "y_test = to_categorical(y_test)\n",
        "\n",
        "x_test = np.reshape(x_test, [-1, input_shape, input_shape, 1])\n",
        "x_test = x_test.astype('float')/255\n",
        "\n",
        "input_shape = [input_shape, input_shape, 1]\n",
        "kernel_size = 3\n",
        "batch_size = 128\n",
        "filters = 32\n",
        "dropout =0.3\n",
        "\n",
        "left_input = Input(shape=input_shape)\n",
        "x = left_input\n",
        "n_filters = filters\n",
        "for i in range(3):\n",
        "    x = Conv2D(padding='same',\n",
        "               kernel_size=kernel_size,\n",
        "               filters=n_filters,\n",
        "               activation='relu')(x)\n",
        "    n_filters *=2\n",
        "\n",
        "right_input = Input(shape=input_shape)\n",
        "y = right_input\n",
        "n_filters=filters\n",
        "for i in range(3):\n",
        "    y = Conv2D(padding='same',\n",
        "               kernel_size=kernel_size,\n",
        "               activation='relu',\n",
        "               filters=n_filters,\n",
        "               dilation_rate=2)(y)\n",
        "    n_filters *=2\n",
        "\n",
        "y = concatenate([x, y])\n",
        "y = Flatten()(y)\n",
        "y = Dropout(dropout)(y)\n",
        "outputs = Dense(n_labels, activation='softmax')(y)\n",
        "\n",
        "model = Model([left_input, right_input], outputs)\n",
        "model.summary()\n",
        "plot_model(model, show_shapes=True)\n",
        "\n",
        "model.compile(loss='categorical_crossentropy',\n",
        "              optimizer='adam',\n",
        "              metrics=['accuracy'])\n",
        "model.fit([x_train, x_train], y_train, validation_data=([x_test, x_test], y_test), batch_size=batch_size, epochs=20)\n",
        "\n",
        "loss, acc = model.evaluate([x_test, x_test], y_test, batch_size=batch_size)\n",
        "\n",
        "\n",
        "    "
      ],
      "execution_count": 13,
      "outputs": [
        {
          "output_type": "stream",
          "text": [
            "__________________________________________________________________________________________________\n",
            "Layer (type)                    Output Shape         Param #     Connected to                     \n",
            "==================================================================================================\n",
            "input_13 (InputLayer)           (None, 28, 28, 1)    0                                            \n",
            "__________________________________________________________________________________________________\n",
            "input_14 (InputLayer)           (None, 28, 28, 1)    0                                            \n",
            "__________________________________________________________________________________________________\n",
            "conv2d_37 (Conv2D)              (None, 28, 28, 32)   320         input_13[0][0]                   \n",
            "__________________________________________________________________________________________________\n",
            "conv2d_40 (Conv2D)              (None, 28, 28, 32)   320         input_14[0][0]                   \n",
            "__________________________________________________________________________________________________\n",
            "conv2d_38 (Conv2D)              (None, 28, 28, 64)   18496       conv2d_37[0][0]                  \n",
            "__________________________________________________________________________________________________\n",
            "conv2d_41 (Conv2D)              (None, 28, 28, 64)   18496       conv2d_40[0][0]                  \n",
            "__________________________________________________________________________________________________\n",
            "conv2d_39 (Conv2D)              (None, 28, 28, 128)  73856       conv2d_38[0][0]                  \n",
            "__________________________________________________________________________________________________\n",
            "conv2d_42 (Conv2D)              (None, 28, 28, 128)  73856       conv2d_41[0][0]                  \n",
            "__________________________________________________________________________________________________\n",
            "concatenate_7 (Concatenate)     (None, 28, 28, 256)  0           conv2d_39[0][0]                  \n",
            "                                                                 conv2d_42[0][0]                  \n",
            "__________________________________________________________________________________________________\n",
            "flatten_7 (Flatten)             (None, 200704)       0           concatenate_7[0][0]              \n",
            "__________________________________________________________________________________________________\n",
            "dropout_5 (Dropout)             (None, 200704)       0           flatten_7[0][0]                  \n",
            "__________________________________________________________________________________________________\n",
            "dense_5 (Dense)                 (None, 10)           2007050     dropout_5[0][0]                  \n",
            "==================================================================================================\n",
            "Total params: 2,192,394\n",
            "Trainable params: 2,192,394\n",
            "Non-trainable params: 0\n",
            "__________________________________________________________________________________________________\n"
          ],
          "name": "stdout"
        },
        {
          "output_type": "stream",
          "text": [
            "W0813 06:01:42.608812 140034083305344 deprecation.py:323] From /usr/local/lib/python3.6/dist-packages/tensorflow/python/ops/math_grad.py:1250: add_dispatch_support.<locals>.wrapper (from tensorflow.python.ops.array_ops) is deprecated and will be removed in a future version.\n",
            "Instructions for updating:\n",
            "Use tf.where in 2.0, which has the same broadcast rule as np.where\n"
          ],
          "name": "stderr"
        },
        {
          "output_type": "stream",
          "text": [
            "Train on 60000 samples, validate on 10000 samples\n",
            "Epoch 1/20\n",
            "60000/60000 [==============================] - 35s 581us/step - loss: 0.1216 - acc: 0.9627 - val_loss: 0.0488 - val_acc: 0.9838\n",
            "Epoch 2/20\n",
            "60000/60000 [==============================] - 29s 488us/step - loss: 0.0386 - acc: 0.9881 - val_loss: 0.0374 - val_acc: 0.9888\n",
            "Epoch 3/20\n",
            "60000/60000 [==============================] - 29s 483us/step - loss: 0.0246 - acc: 0.9917 - val_loss: 0.0353 - val_acc: 0.9889\n",
            "Epoch 4/20\n",
            "60000/60000 [==============================] - 29s 485us/step - loss: 0.0176 - acc: 0.9943 - val_loss: 0.0404 - val_acc: 0.9874\n",
            "Epoch 5/20\n",
            "60000/60000 [==============================] - 29s 482us/step - loss: 0.0101 - acc: 0.9966 - val_loss: 0.0470 - val_acc: 0.9878\n",
            "Epoch 6/20\n",
            "60000/60000 [==============================] - 29s 481us/step - loss: 0.0089 - acc: 0.9971 - val_loss: 0.0392 - val_acc: 0.9891\n",
            "Epoch 7/20\n",
            "60000/60000 [==============================] - 29s 481us/step - loss: 0.0076 - acc: 0.9975 - val_loss: 0.0334 - val_acc: 0.9903\n",
            "Epoch 8/20\n",
            "60000/60000 [==============================] - 29s 480us/step - loss: 0.0063 - acc: 0.9980 - val_loss: 0.0418 - val_acc: 0.9900\n",
            "Epoch 9/20\n",
            "60000/60000 [==============================] - 29s 479us/step - loss: 0.0064 - acc: 0.9978 - val_loss: 0.0537 - val_acc: 0.9885\n",
            "Epoch 10/20\n",
            "60000/60000 [==============================] - 29s 479us/step - loss: 0.0050 - acc: 0.9983 - val_loss: 0.0470 - val_acc: 0.9901\n",
            "Epoch 11/20\n",
            "60000/60000 [==============================] - 29s 478us/step - loss: 0.0049 - acc: 0.9985 - val_loss: 0.0400 - val_acc: 0.9903\n",
            "Epoch 12/20\n",
            "60000/60000 [==============================] - 29s 479us/step - loss: 0.0036 - acc: 0.9990 - val_loss: 0.0548 - val_acc: 0.9890\n",
            "Epoch 13/20\n",
            "60000/60000 [==============================] - 29s 478us/step - loss: 0.0058 - acc: 0.9983 - val_loss: 0.0546 - val_acc: 0.9895\n",
            "Epoch 14/20\n",
            "60000/60000 [==============================] - 29s 478us/step - loss: 0.0032 - acc: 0.9990 - val_loss: 0.0543 - val_acc: 0.9891\n",
            "Epoch 15/20\n",
            "60000/60000 [==============================] - 29s 479us/step - loss: 0.0047 - acc: 0.9985 - val_loss: 0.0504 - val_acc: 0.9902\n",
            "Epoch 16/20\n",
            "60000/60000 [==============================] - 29s 478us/step - loss: 0.0031 - acc: 0.9991 - val_loss: 0.0575 - val_acc: 0.9897\n",
            "Epoch 17/20\n",
            "60000/60000 [==============================] - 29s 477us/step - loss: 0.0032 - acc: 0.9992 - val_loss: 0.0429 - val_acc: 0.9918\n",
            "Epoch 18/20\n",
            "60000/60000 [==============================] - 29s 478us/step - loss: 0.0031 - acc: 0.9992 - val_loss: 0.0635 - val_acc: 0.9890\n",
            "Epoch 19/20\n",
            "60000/60000 [==============================] - 29s 476us/step - loss: 0.0035 - acc: 0.9991 - val_loss: 0.0673 - val_acc: 0.9876\n",
            "Epoch 20/20\n",
            "60000/60000 [==============================] - 29s 476us/step - loss: 0.0041 - acc: 0.9987 - val_loss: 0.0582 - val_acc: 0.9893\n",
            "10000/10000 [==============================] - 2s 154us/step\n"
          ],
          "name": "stdout"
        }
      ]
    },
    {
      "cell_type": "code",
      "metadata": {
        "id": "2qweO-Csi1Bm",
        "colab_type": "code",
        "colab": {
          "base_uri": "https://localhost:8080/",
          "height": 35
        },
        "outputId": "b7257c28-d16b-4188-e788-49ade8872347"
      },
      "source": [
        "print('Accuracy = ', acc)"
      ],
      "execution_count": 14,
      "outputs": [
        {
          "output_type": "stream",
          "text": [
            "Accuracy =  0.9893\n"
          ],
          "name": "stdout"
        }
      ]
    },
    {
      "cell_type": "code",
      "metadata": {
        "id": "m0rGFsQZm5XX",
        "colab_type": "code",
        "colab": {}
      },
      "source": [
        ""
      ],
      "execution_count": 0,
      "outputs": []
    }
  ]
}