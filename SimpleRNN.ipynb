{
  "nbformat": 4,
  "nbformat_minor": 0,
  "metadata": {
    "colab": {
      "name": "SimpleRNN.ipynb",
      "version": "0.3.2",
      "provenance": []
    },
    "kernelspec": {
      "name": "python3",
      "display_name": "Python 3"
    },
    "accelerator": "GPU"
  },
  "cells": [
    {
      "cell_type": "code",
      "metadata": {
        "id": "G_R5niLiV2k4",
        "colab_type": "code",
        "colab": {
          "base_uri": "https://localhost:8080/",
          "height": 35
        },
        "outputId": "1e54dd4c-1c02-4a53-d2fb-ba72f8c68bc8"
      },
      "source": [
        "import numpy as np\n",
        "from keras.layers import Dense, Activation, SimpleRNN\n",
        "from keras.utils import to_categorical, plot_model\n",
        "from keras.models import Sequential\n",
        "from keras.datasets import mnist"
      ],
      "execution_count": 3,
      "outputs": [
        {
          "output_type": "stream",
          "text": [
            "Using TensorFlow backend.\n"
          ],
          "name": "stderr"
        }
      ]
    },
    {
      "cell_type": "code",
      "metadata": {
        "id": "pRU1x03OWXdW",
        "colab_type": "code",
        "colab": {
          "base_uri": "https://localhost:8080/",
          "height": 1000
        },
        "outputId": "0bac8fd2-7d30-41eb-c641-7c15eb2cdd30"
      },
      "source": [
        "(x_train, y_train), (x_test, y_test) = mnist.load_data()\n",
        "\n",
        "image_size = x_train.shape[1]\n",
        "num_labels = len(np.unique(y_train))\n",
        "\n",
        "y_train = to_categorical(y_train)\n",
        "y_test = to_categorical(y_test)\n",
        "\n",
        "x_train = np.reshape(x_train, [-1, image_size, image_size])\n",
        "x_train = x_train.astype('float')/255.0\n",
        "x_test = np.reshape(x_test, [-1, image_size, image_size])\n",
        "x_test = x_test.astype('float')/255.0\n",
        "\n",
        "input_size = (image_size, image_size)\n",
        "layers = 256\n",
        "dropout = 0.3\n",
        "batch_size = 128\n",
        "\n",
        "model = Sequential()\n",
        "model.add(SimpleRNN(input_shape=input_size,\n",
        "                    dropout=dropout,\n",
        "                    units=layers))\n",
        "model.add(Dense(num_labels))\n",
        "model.add(Activation('softmax'))\n",
        "model.summary()\n",
        "plot_model(model, show_shapes=True)\n",
        "\n",
        "model.compile(loss='categorical_crossentropy',\n",
        "              metrics=['accuracy'],\n",
        "              optimizer='adam')\n",
        "\n",
        "model.fit(x_train, y_train, epochs=20, batch_size=batch_size)\n",
        "\n",
        "loss, acc = model.evaluate(x_test, y_test, batch_size=batch_size)\n",
        "print(\"Accuray = \", acc)\n",
        "\n"
      ],
      "execution_count": 7,
      "outputs": [
        {
          "output_type": "stream",
          "text": [
            "W0813 05:14:44.419299 140394427615104 deprecation_wrapper.py:119] From /usr/local/lib/python3.6/dist-packages/keras/backend/tensorflow_backend.py:517: The name tf.placeholder is deprecated. Please use tf.compat.v1.placeholder instead.\n",
            "\n",
            "W0813 05:14:44.428519 140394427615104 deprecation_wrapper.py:119] From /usr/local/lib/python3.6/dist-packages/keras/backend/tensorflow_backend.py:4138: The name tf.random_uniform is deprecated. Please use tf.random.uniform instead.\n",
            "\n",
            "W0813 05:14:44.522461 140394427615104 deprecation_wrapper.py:119] From /usr/local/lib/python3.6/dist-packages/keras/backend/tensorflow_backend.py:133: The name tf.placeholder_with_default is deprecated. Please use tf.compat.v1.placeholder_with_default instead.\n",
            "\n",
            "W0813 05:14:44.534054 140394427615104 deprecation.py:506] From /usr/local/lib/python3.6/dist-packages/keras/backend/tensorflow_backend.py:3445: calling dropout (from tensorflow.python.ops.nn_ops) with keep_prob is deprecated and will be removed in a future version.\n",
            "Instructions for updating:\n",
            "Please use `rate` instead of `keep_prob`. Rate should be set to `rate = 1 - keep_prob`.\n"
          ],
          "name": "stderr"
        },
        {
          "output_type": "stream",
          "text": [
            "_________________________________________________________________\n",
            "Layer (type)                 Output Shape              Param #   \n",
            "=================================================================\n",
            "simple_rnn_1 (SimpleRNN)     (None, 256)               72960     \n",
            "_________________________________________________________________\n",
            "dense_1 (Dense)              (None, 10)                2570      \n",
            "_________________________________________________________________\n",
            "activation_1 (Activation)    (None, 10)                0         \n",
            "=================================================================\n",
            "Total params: 75,530\n",
            "Trainable params: 75,530\n",
            "Non-trainable params: 0\n",
            "_________________________________________________________________\n"
          ],
          "name": "stdout"
        },
        {
          "output_type": "stream",
          "text": [
            "W0813 05:14:44.842245 140394427615104 deprecation_wrapper.py:119] From /usr/local/lib/python3.6/dist-packages/keras/optimizers.py:790: The name tf.train.Optimizer is deprecated. Please use tf.compat.v1.train.Optimizer instead.\n",
            "\n",
            "W0813 05:14:44.869381 140394427615104 deprecation_wrapper.py:119] From /usr/local/lib/python3.6/dist-packages/keras/backend/tensorflow_backend.py:3295: The name tf.log is deprecated. Please use tf.math.log instead.\n",
            "\n",
            "W0813 05:14:45.135734 140394427615104 deprecation.py:323] From /usr/local/lib/python3.6/dist-packages/tensorflow/python/ops/math_grad.py:1250: add_dispatch_support.<locals>.wrapper (from tensorflow.python.ops.array_ops) is deprecated and will be removed in a future version.\n",
            "Instructions for updating:\n",
            "Use tf.where in 2.0, which has the same broadcast rule as np.where\n"
          ],
          "name": "stderr"
        },
        {
          "output_type": "stream",
          "text": [
            "Epoch 1/20\n",
            "60000/60000 [==============================] - 11s 190us/step - loss: 0.4590 - acc: 0.8564\n",
            "Epoch 2/20\n",
            "60000/60000 [==============================] - 8s 127us/step - loss: 0.2526 - acc: 0.9237\n",
            "Epoch 3/20\n",
            "60000/60000 [==============================] - 8s 128us/step - loss: 0.2122 - acc: 0.9363\n",
            "Epoch 4/20\n",
            "60000/60000 [==============================] - 8s 125us/step - loss: 0.1953 - acc: 0.9404\n",
            "Epoch 5/20\n",
            "60000/60000 [==============================] - 7s 125us/step - loss: 0.1787 - acc: 0.9467\n",
            "Epoch 6/20\n",
            "60000/60000 [==============================] - 8s 125us/step - loss: 0.1661 - acc: 0.9499\n",
            "Epoch 7/20\n",
            "60000/60000 [==============================] - 8s 125us/step - loss: 0.1636 - acc: 0.9504\n",
            "Epoch 8/20\n",
            "60000/60000 [==============================] - 7s 123us/step - loss: 0.1546 - acc: 0.9527\n",
            "Epoch 9/20\n",
            "60000/60000 [==============================] - 7s 124us/step - loss: 0.1604 - acc: 0.9510\n",
            "Epoch 10/20\n",
            "60000/60000 [==============================] - 7s 124us/step - loss: 0.1497 - acc: 0.9543\n",
            "Epoch 11/20\n",
            "60000/60000 [==============================] - 8s 125us/step - loss: 0.1480 - acc: 0.9551\n",
            "Epoch 12/20\n",
            "60000/60000 [==============================] - 7s 125us/step - loss: 0.1444 - acc: 0.9560\n",
            "Epoch 13/20\n",
            "60000/60000 [==============================] - 8s 126us/step - loss: 0.1398 - acc: 0.9573\n",
            "Epoch 14/20\n",
            "60000/60000 [==============================] - 7s 124us/step - loss: 0.1408 - acc: 0.9579\n",
            "Epoch 15/20\n",
            "60000/60000 [==============================] - 7s 124us/step - loss: 0.1410 - acc: 0.9569\n",
            "Epoch 16/20\n",
            "60000/60000 [==============================] - 7s 125us/step - loss: 0.1443 - acc: 0.9573\n",
            "Epoch 17/20\n",
            "60000/60000 [==============================] - 7s 123us/step - loss: 0.1465 - acc: 0.9562\n",
            "Epoch 18/20\n",
            "60000/60000 [==============================] - 7s 124us/step - loss: 0.1311 - acc: 0.9603\n",
            "Epoch 19/20\n",
            "60000/60000 [==============================] - 7s 123us/step - loss: 0.1326 - acc: 0.9594\n",
            "Epoch 20/20\n",
            "60000/60000 [==============================] - 7s 124us/step - loss: 0.1349 - acc: 0.9596\n",
            "10000/10000 [==============================] - 1s 90us/step\n",
            "Accuray =  0.9726\n"
          ],
          "name": "stdout"
        }
      ]
    },
    {
      "cell_type": "code",
      "metadata": {
        "id": "UCDt__FsZJ6B",
        "colab_type": "code",
        "colab": {}
      },
      "source": [
        ""
      ],
      "execution_count": 0,
      "outputs": []
    }
  ]
}