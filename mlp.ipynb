{
  "nbformat": 4,
  "nbformat_minor": 0,
  "metadata": {
    "colab": {
      "name": "mlp.ipynb",
      "version": "0.3.2",
      "provenance": [],
      "collapsed_sections": []
    },
    "kernelspec": {
      "name": "python3",
      "display_name": "Python 3"
    },
    "accelerator": "GPU"
  },
  "cells": [
    {
      "cell_type": "code",
      "metadata": {
        "id": "aTKYOUrgHDhK",
        "colab_type": "code",
        "outputId": "113e51b0-4bbb-4ff2-a84f-2225298aae97",
        "colab": {
          "base_uri": "https://localhost:8080/",
          "height": 341
        }
      },
      "source": [
        "import numpy as np\n",
        "from keras.datasets import mnist\n",
        "import matplotlib.pyplot as plt\n",
        "\n",
        "(x_train, y_train), (x_test, y_test) = mnist.load_data()\n",
        "\n",
        "print (y_train[0])\n",
        "\n",
        "#unique, counts = np.unique(y_train, return_counts=True)\n",
        "#print(\"Train lables: \", dict(zip(unique, counts)))\n",
        "\n",
        "#unique, counts = np.unique(y_test, return_counts=True)\n",
        "#print (\"Test lables: \", dict(zip(unique, counts)))\n",
        "\n",
        "indexs = np.random.randint(0, x_train.shape[0], size=25)\n",
        "images = x_train[indexs]\n",
        "#labels = y_train[indexs]\n",
        "\n",
        "plt.figure(figsize=(5,5))\n",
        "for i in range(len(indexs)):\n",
        "    plt.subplot(5,5,i+1)\n",
        "    image = images[i]\n",
        "    plt.imshow(image, cmap='gray')\n",
        "    plt.axis('off')\n",
        "    \n",
        "plt.show()\n"
      ],
      "execution_count": 43,
      "outputs": [
        {
          "output_type": "stream",
          "text": [
            "5\n"
          ],
          "name": "stdout"
        },
        {
          "output_type": "display_data",
          "data": {
            "image/png": "[encoded data removed]",
            "text/plain": [
              "<Figure size 360x360 with 25 Axes>"
            ]
          },
          "metadata": {
            "tags": []
          }
        }
      ]
    },
    {
      "cell_type": "code",
      "metadata": {
        "id": "PZ8hNed_LS1G",
        "colab_type": "code",
        "colab": {}
      },
      "source": [
        "plt.close('all')"
      ],
      "execution_count": 0,
      "outputs": []
    },
    {
      "cell_type": "code",
      "metadata": {
        "id": "qC0MxwRYMovl",
        "colab_type": "code",
        "colab": {}
      },
      "source": [
        "from keras.models import Sequential\n",
        "from keras.layers import Dense, Activation, Dropout\n",
        "from keras.utils import to_categorical, plot_model"
      ],
      "execution_count": 0,
      "outputs": []
    },
    {
      "cell_type": "code",
      "metadata": {
        "id": "CV0ZhrJgPTMF",
        "colab_type": "code",
        "colab": {
          "base_uri": "https://localhost:8080/",
          "height": 435
        },
        "outputId": "c2308efb-e4e1-4be8-8db6-7dd146f07fb4"
      },
      "source": [
        "#number of labels\n",
        "\n",
        "num_labels = len(np.unique(y_train))\n",
        "\n",
        "y_train = to_categorical(y_train)\n",
        "y_test = to_categorical(y_test)\n",
        "\n",
        "image_size = x_train.shape[1]\n",
        "flat_size = image_size*image_size\n",
        "\n",
        "x_train = np.reshape(x_train, [-1, flat_size])\n",
        "x_train = x_train.astype('float')/255.0\n",
        "\n",
        "x_test = np.reshape(x_test, [-1, flat_size])\n",
        "x_test = x_test.astype('float')/255.0\n",
        "\n",
        "batch_size = 128\n",
        "hidden_units = 256\n",
        "dropout = 0.4\n",
        "\n",
        "model = Sequential()\n",
        "\n",
        "model.add(Dense(hidden_units, input_dim=flat_size))\n",
        "model.add(Activation('relu'))\n",
        "model.add(Dropout(dropout))\n",
        "model.add(Dense(hidden_units))\n",
        "model.add(Activation('relu'))\n",
        "model.add(Dropout(dropout))\n",
        "model.add(Dense(num_labels))\n",
        "model.add(Activation('softmax'))\n",
        "model.summary()\n",
        "\n",
        "plot_model(model, show_shapes=True)\n"
      ],
      "execution_count": 46,
      "outputs": [
        {
          "output_type": "stream",
          "text": [
            "_________________________________________________________________\n",
            "Layer (type)                 Output Shape              Param #   \n",
            "=================================================================\n",
            "dense_3 (Dense)              (None, 256)               200960    \n",
            "_________________________________________________________________\n",
            "activation_3 (Activation)    (None, 256)               0         \n",
            "_________________________________________________________________\n",
            "dropout_3 (Dropout)          (None, 256)               0         \n",
            "_________________________________________________________________\n",
            "dense_4 (Dense)              (None, 256)               65792     \n",
            "_________________________________________________________________\n",
            "activation_4 (Activation)    (None, 256)               0         \n",
            "_________________________________________________________________\n",
            "dropout_4 (Dropout)          (None, 256)               0         \n",
            "_________________________________________________________________\n",
            "dense_5 (Dense)              (None, 10)                2570      \n",
            "_________________________________________________________________\n",
            "activation_5 (Activation)    (None, 10)                0         \n",
            "=================================================================\n",
            "Total params: 269,322\n",
            "Trainable params: 269,322\n",
            "Non-trainable params: 0\n",
            "_________________________________________________________________\n"
          ],
          "name": "stdout"
        }
      ]
    },
    {
      "cell_type": "code",
      "metadata": {
        "id": "Evzi_wIXRfqk",
        "colab_type": "code",
        "colab": {
          "base_uri": "https://localhost:8080/",
          "height": 927
        },
        "outputId": "5bcc58ec-679e-4687-ee44-95d2dda3370f"
      },
      "source": [
        "model.compile(loss='categorical_crossentropy',\n",
        "              optimizer='adam',\n",
        "              metrics=['accuracy'])\n",
        "\n",
        "model.fit(x_train, y_train, epochs=20, batch_size=batch_size)\n",
        "loss, acc = model.evaluate(x_test, y_test, batch_size=batch_size)\n",
        "\n",
        "print('Accuracy = ', acc)"
      ],
      "execution_count": 47,
      "outputs": [
        {
          "output_type": "stream",
          "text": [
            "W0812 10:13:35.346741 140251727193984 deprecation_wrapper.py:119] From /usr/local/lib/python3.6/dist-packages/keras/optimizers.py:790: The name tf.train.Optimizer is deprecated. Please use tf.compat.v1.train.Optimizer instead.\n",
            "\n",
            "W0812 10:13:35.386690 140251727193984 deprecation_wrapper.py:119] From /usr/local/lib/python3.6/dist-packages/keras/backend/tensorflow_backend.py:3295: The name tf.log is deprecated. Please use tf.math.log instead.\n",
            "\n",
            "W0812 10:13:35.508147 140251727193984 deprecation.py:323] From /usr/local/lib/python3.6/dist-packages/tensorflow/python/ops/math_grad.py:1250: add_dispatch_support.<locals>.wrapper (from tensorflow.python.ops.array_ops) is deprecated and will be removed in a future version.\n",
            "Instructions for updating:\n",
            "Use tf.where in 2.0, which has the same broadcast rule as np.where\n"
          ],
          "name": "stderr"
        },
        {
          "output_type": "stream",
          "text": [
            "Epoch 1/20\n",
            "60000/60000 [==============================] - 6s 101us/step - loss: 0.3924 - acc: 0.8794\n",
            "Epoch 2/20\n",
            "60000/60000 [==============================] - 2s 32us/step - loss: 0.1749 - acc: 0.9488\n",
            "Epoch 3/20\n",
            "60000/60000 [==============================] - 2s 32us/step - loss: 0.1337 - acc: 0.9600\n",
            "Epoch 4/20\n",
            "60000/60000 [==============================] - 2s 32us/step - loss: 0.1130 - acc: 0.9661\n",
            "Epoch 5/20\n",
            "60000/60000 [==============================] - 2s 31us/step - loss: 0.1013 - acc: 0.9687\n",
            "Epoch 6/20\n",
            "60000/60000 [==============================] - 2s 32us/step - loss: 0.0884 - acc: 0.9723\n",
            "Epoch 7/20\n",
            "60000/60000 [==============================] - 2s 32us/step - loss: 0.0825 - acc: 0.9742\n",
            "Epoch 8/20\n",
            "60000/60000 [==============================] - 2s 32us/step - loss: 0.0738 - acc: 0.9768\n",
            "Epoch 9/20\n",
            "60000/60000 [==============================] - 2s 33us/step - loss: 0.0721 - acc: 0.9774\n",
            "Epoch 10/20\n",
            "60000/60000 [==============================] - 2s 32us/step - loss: 0.0670 - acc: 0.9793\n",
            "Epoch 11/20\n",
            "60000/60000 [==============================] - 2s 33us/step - loss: 0.0613 - acc: 0.9798\n",
            "Epoch 12/20\n",
            "60000/60000 [==============================] - 2s 32us/step - loss: 0.0602 - acc: 0.9804\n",
            "Epoch 13/20\n",
            "60000/60000 [==============================] - 2s 32us/step - loss: 0.0554 - acc: 0.9821\n",
            "Epoch 14/20\n",
            "60000/60000 [==============================] - 2s 32us/step - loss: 0.0543 - acc: 0.9821\n",
            "Epoch 15/20\n",
            "60000/60000 [==============================] - 2s 32us/step - loss: 0.0530 - acc: 0.9823\n",
            "Epoch 16/20\n",
            "60000/60000 [==============================] - 2s 32us/step - loss: 0.0494 - acc: 0.9838\n",
            "Epoch 17/20\n",
            "60000/60000 [==============================] - 2s 34us/step - loss: 0.0484 - acc: 0.9845\n",
            "Epoch 18/20\n",
            "60000/60000 [==============================] - 2s 34us/step - loss: 0.0475 - acc: 0.9847\n",
            "Epoch 19/20\n",
            "60000/60000 [==============================] - 2s 33us/step - loss: 0.0459 - acc: 0.9853\n",
            "Epoch 20/20\n",
            "60000/60000 [==============================] - 2s 33us/step - loss: 0.0436 - acc: 0.9854\n",
            "10000/10000 [==============================] - 0s 18us/step\n",
            "Accuracy =  0.9837\n"
          ],
          "name": "stdout"
        }
      ]
    },
    {
      "cell_type": "code",
      "metadata": {
        "id": "jd20SJ5OUaBr",
        "colab_type": "code",
        "colab": {}
      },
      "source": [
        ""
      ],
      "execution_count": 0,
      "outputs": []
    }
  ]
}