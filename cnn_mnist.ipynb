{
  "nbformat": 4,
  "nbformat_minor": 0,
  "metadata": {
    "colab": {
      "name": "cnn_mnist.ipynb",
      "version": "0.3.2",
      "provenance": []
    },
    "kernelspec": {
      "name": "python3",
      "display_name": "Python 3"
    }
  },
  "cells": [
    {
      "cell_type": "code",
      "metadata": {
        "id": "HBDZ1piXU3Fq",
        "colab_type": "code",
        "colab": {}
      },
      "source": [
        "import numpy as np\n",
        "from keras.datasets import mnist\n",
        "from keras.utils import to_categorical, plot_model\n",
        "from keras.models import Sequential\n",
        "from keras.layers import Activation, Dense, Dropout\n",
        "from keras.layers import Conv2D, MaxPooling2D, Flatten"
      ],
      "execution_count": 0,
      "outputs": []
    },
    {
      "cell_type": "code",
      "metadata": {
        "id": "nNAx26Qedxxm",
        "colab_type": "code",
        "colab": {
          "base_uri": "https://localhost:8080/",
          "height": 927
        },
        "outputId": "184e2082-d568-40fd-a1ab-b411aece640d"
      },
      "source": [
        "(x_train, y_train), (x_test, y_test) = mnist.load_data()\n",
        "\n",
        "print (x_train.shape[0], y_train.shape[0])\n",
        "\n",
        "num_labels = len(np.unique(y_train))\n",
        "\n",
        "y_train = to_categorical(y_train)\n",
        "y_test = to_categorical(y_test)\n",
        "\n",
        "image_size = x_train.shape[1]\n",
        "\n",
        "x_train = np.reshape(x_train, [-1, image_size, image_size, 1])\n",
        "x_train = x_train.astype('float')/255.0\n",
        "\n",
        "x_test = np.reshape(x_test, [-1, image_size, image_size, 1])\n",
        "x_test = x_test.astype('float')/255.0\n",
        "\n",
        "model = Sequential()\n",
        "\n",
        "input_shape = (image_size, image_size, 1)\n",
        "batch_size = 128\n",
        "kernel_size = 3\n",
        "pool_size = 2\n",
        "filters = 64\n",
        "dropout = 0.2\n",
        "\n",
        "model.add(Conv2D(filters=filters,\n",
        "                 kernel_size = kernel_size,\n",
        "                 activation='relu',\n",
        "                 input_shape=input_shape)) #keras.layers.Conv2D(filters, kernel_size, strides=(1, 1), padding='valid', data_format=None, dilation_rate=(1, 1), activation=None, use_bias=True, kernel_initializer='glorot_uniform', bias_initializer='zeros', kernel_regularizer=None, bias_regularizer=None, activity_regularizer=None, kernel_constraint=None, bias_constraint=None)\n",
        "model.add(MaxPooling2D(pool_size)) #keras.layers.MaxPooling1D(pool_size=2, strides=None, padding='valid', data_format='channels_last')\n",
        "model.add(Conv2D(filters=filters,\n",
        "                 kernel_size=kernel_size,\n",
        "                 activation='relu'))\n",
        "model.add(MaxPooling2D(pool_size))\n",
        "model.add(Flatten())\n",
        "model.add(Dropout(dropout))\n",
        "model.add(Dense(num_labels))\n",
        "model.add(Activation('softmax'))\n",
        "\n",
        "model.summary()\n",
        "plot_model(model, show_shapes=True)\n",
        "\n",
        "model.compile(loss='categorical_crossentropy',\n",
        "              optimizer='adam',\n",
        "              metrics=['accuracy'])\n",
        "\n",
        "model.fit(x_train, y_train, epochs=10, batch_size=batch_size)\n",
        "loss, acc = model.evaluate(x_test, y_test, batch_size=batch_size)\n",
        "\n",
        "print(\"Accuracy = \", acc)\n",
        "\n",
        "\n"
      ],
      "execution_count": 12,
      "outputs": [
        {
          "output_type": "stream",
          "text": [
            "60000 60000\n",
            "_________________________________________________________________\n",
            "Layer (type)                 Output Shape              Param #   \n",
            "=================================================================\n",
            "conv2d_13 (Conv2D)           (None, 26, 26, 64)        640       \n",
            "_________________________________________________________________\n",
            "max_pooling2d_13 (MaxPooling (None, 13, 13, 64)        0         \n",
            "_________________________________________________________________\n",
            "conv2d_14 (Conv2D)           (None, 11, 11, 64)        36928     \n",
            "_________________________________________________________________\n",
            "max_pooling2d_14 (MaxPooling (None, 5, 5, 64)          0         \n",
            "_________________________________________________________________\n",
            "flatten_6 (Flatten)          (None, 1600)              0         \n",
            "_________________________________________________________________\n",
            "dropout_6 (Dropout)          (None, 1600)              0         \n",
            "_________________________________________________________________\n",
            "dense_5 (Dense)              (None, 10)                16010     \n",
            "_________________________________________________________________\n",
            "activation_5 (Activation)    (None, 10)                0         \n",
            "=================================================================\n",
            "Total params: 53,578\n",
            "Trainable params: 53,578\n",
            "Non-trainable params: 0\n",
            "_________________________________________________________________\n"
          ],
          "name": "stdout"
        },
        {
          "output_type": "stream",
          "text": [
            "W0812 11:17:29.901133 140549394978688 deprecation.py:323] From /usr/local/lib/python3.6/dist-packages/tensorflow/python/ops/math_grad.py:1250: add_dispatch_support.<locals>.wrapper (from tensorflow.python.ops.array_ops) is deprecated and will be removed in a future version.\n",
            "Instructions for updating:\n",
            "Use tf.where in 2.0, which has the same broadcast rule as np.where\n"
          ],
          "name": "stderr"
        },
        {
          "output_type": "stream",
          "text": [
            "Epoch 1/10\n",
            "60000/60000 [==============================] - 82s 1ms/step - loss: 0.2675 - acc: 0.9199\n",
            "Epoch 2/10\n",
            "60000/60000 [==============================] - 81s 1ms/step - loss: 0.0752 - acc: 0.9772\n",
            "Epoch 3/10\n",
            "60000/60000 [==============================] - 81s 1ms/step - loss: 0.0565 - acc: 0.9830\n",
            "Epoch 4/10\n",
            "60000/60000 [==============================] - 81s 1ms/step - loss: 0.0467 - acc: 0.9854\n",
            "Epoch 5/10\n",
            "60000/60000 [==============================] - 80s 1ms/step - loss: 0.0398 - acc: 0.9877\n",
            "Epoch 6/10\n",
            "60000/60000 [==============================] - 80s 1ms/step - loss: 0.0358 - acc: 0.9887\n",
            "Epoch 7/10\n",
            "60000/60000 [==============================] - 79s 1ms/step - loss: 0.0301 - acc: 0.9906\n",
            "Epoch 8/10\n",
            "60000/60000 [==============================] - 79s 1ms/step - loss: 0.0277 - acc: 0.9910\n",
            "Epoch 9/10\n",
            "60000/60000 [==============================] - 79s 1ms/step - loss: 0.0245 - acc: 0.9921\n",
            "Epoch 10/10\n",
            "60000/60000 [==============================] - 80s 1ms/step - loss: 0.0222 - acc: 0.9927\n",
            "10000/10000 [==============================] - 4s 374us/step\n",
            "Accuracy =  0.9914\n"
          ],
          "name": "stdout"
        }
      ]
    },
    {
      "cell_type": "code",
      "metadata": {
        "id": "4uZBXOs6h2xo",
        "colab_type": "code",
        "colab": {}
      },
      "source": [
        ""
      ],
      "execution_count": 0,
      "outputs": []
    }
  ]
}